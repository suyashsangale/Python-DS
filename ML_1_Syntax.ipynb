{
 "cells": [
  {
   "cell_type": "code",
   "execution_count": 3,
   "metadata": {},
   "outputs": [],
   "source": [
    "s= 3"
   ]
  },
  {
   "cell_type": "code",
   "execution_count": 5,
   "metadata": {},
   "outputs": [
    {
     "data": {
      "text/plain": [
       "1"
      ]
     },
     "execution_count": 5,
     "metadata": {},
     "output_type": "execute_result"
    }
   ],
   "source": [
    "s//2"
   ]
  },
  {
   "cell_type": "code",
   "execution_count": 6,
   "metadata": {},
   "outputs": [],
   "source": [
    "a='3'"
   ]
  },
  {
   "cell_type": "code",
   "execution_count": 7,
   "metadata": {},
   "outputs": [
    {
     "data": {
      "text/plain": [
       "3"
      ]
     },
     "execution_count": 7,
     "metadata": {},
     "output_type": "execute_result"
    }
   ],
   "source": [
    "s\n"
   ]
  },
  {
   "cell_type": "code",
   "execution_count": 8,
   "metadata": {},
   "outputs": [
    {
     "data": {
      "text/plain": [
       "int"
      ]
     },
     "execution_count": 8,
     "metadata": {},
     "output_type": "execute_result"
    }
   ],
   "source": [
    "type(s)"
   ]
  },
  {
   "cell_type": "code",
   "execution_count": 9,
   "metadata": {},
   "outputs": [
    {
     "data": {
      "text/plain": [
       "str"
      ]
     },
     "execution_count": 9,
     "metadata": {},
     "output_type": "execute_result"
    }
   ],
   "source": [
    "type(a)"
   ]
  },
  {
   "cell_type": "code",
   "execution_count": 10,
   "metadata": {},
   "outputs": [],
   "source": [
    "list_1=[]"
   ]
  },
  {
   "cell_type": "code",
   "execution_count": 11,
   "metadata": {},
   "outputs": [
    {
     "data": {
      "text/plain": [
       "list"
      ]
     },
     "execution_count": 11,
     "metadata": {},
     "output_type": "execute_result"
    }
   ],
   "source": [
    "type(list_1)"
   ]
  },
  {
   "cell_type": "code",
   "execution_count": 35,
   "metadata": {},
   "outputs": [],
   "source": [
    "list_2=[2,\"Mumbai\",\"Delhi\",True,3.13]"
   ]
  },
  {
   "cell_type": "code",
   "execution_count": 15,
   "metadata": {},
   "outputs": [],
   "source": [
    "list_1[0]=\"N\""
   ]
  },
  {
   "cell_type": "code",
   "execution_count": 17,
   "metadata": {},
   "outputs": [
    {
     "data": {
      "text/plain": [
       "'N'"
      ]
     },
     "execution_count": 17,
     "metadata": {},
     "output_type": "execute_result"
    }
   ],
   "source": [
    "list_1[0]"
   ]
  },
  {
   "cell_type": "code",
   "execution_count": 18,
   "metadata": {},
   "outputs": [
    {
     "data": {
      "text/plain": [
       "['N', 'Mumbai', 'Delhi', True, 3.13]"
      ]
     },
     "execution_count": 18,
     "metadata": {},
     "output_type": "execute_result"
    }
   ],
   "source": [
    "list_1"
   ]
  },
  {
   "cell_type": "code",
   "execution_count": 19,
   "metadata": {},
   "outputs": [],
   "source": [
    "dict_1={}"
   ]
  },
  {
   "cell_type": "code",
   "execution_count": 20,
   "metadata": {},
   "outputs": [],
   "source": [
    "tuple_1={}"
   ]
  },
  {
   "cell_type": "code",
   "execution_count": 21,
   "metadata": {},
   "outputs": [],
   "source": [
    "dict_1[\"Country\"]=\"India\"\n",
    "dict_1[\"USA\"]=123\n",
    "dict_1[\"Cap\"]=\"Delhi\""
   ]
  },
  {
   "cell_type": "code",
   "execution_count": 22,
   "metadata": {},
   "outputs": [
    {
     "data": {
      "text/plain": [
       "123"
      ]
     },
     "execution_count": 22,
     "metadata": {},
     "output_type": "execute_result"
    }
   ],
   "source": [
    "dict_1[\"USA\"]"
   ]
  },
  {
   "cell_type": "code",
   "execution_count": 23,
   "metadata": {},
   "outputs": [
    {
     "data": {
      "text/plain": [
       "{'Country': 'India', 'USA': 123, 'Cap': 'Delhi'}"
      ]
     },
     "execution_count": 23,
     "metadata": {},
     "output_type": "execute_result"
    }
   ],
   "source": [
    "dict_1"
   ]
  },
  {
   "cell_type": "code",
   "execution_count": 24,
   "metadata": {},
   "outputs": [],
   "source": [
    "dict_1[\"USA\"]= [2,3,5,True]"
   ]
  },
  {
   "cell_type": "code",
   "execution_count": 33,
   "metadata": {},
   "outputs": [
    {
     "data": {
      "text/plain": [
       "[3, 5, True]"
      ]
     },
     "execution_count": 33,
     "metadata": {},
     "output_type": "execute_result"
    }
   ],
   "source": [
    "dict_1[\"USA\"][1:]"
   ]
  },
  {
   "cell_type": "code",
   "execution_count": 26,
   "metadata": {},
   "outputs": [
    {
     "data": {
      "text/plain": [
       "['N', 'Delhi', 3.13]"
      ]
     },
     "execution_count": 26,
     "metadata": {},
     "output_type": "execute_result"
    }
   ],
   "source": [
    "list_1[::2]"
   ]
  },
  {
   "cell_type": "code",
   "execution_count": null,
   "metadata": {},
   "outputs": [],
   "source": []
  },
  {
   "cell_type": "code",
   "execution_count": 27,
   "metadata": {},
   "outputs": [],
   "source": [
    "tuple_1=(0,1,23,4,5,\"a\")"
   ]
  },
  {
   "cell_type": "code",
   "execution_count": 28,
   "metadata": {},
   "outputs": [
    {
     "data": {
      "text/plain": [
       "'a'"
      ]
     },
     "execution_count": 28,
     "metadata": {},
     "output_type": "execute_result"
    }
   ],
   "source": [
    "tuple_1[-1]"
   ]
  },
  {
   "cell_type": "code",
   "execution_count": 32,
   "metadata": {},
   "outputs": [
    {
     "name": "stdout",
     "output_type": "stream",
     "text": [
      "N\n",
      "Mumbai\n",
      "Delhi\n",
      "True\n",
      "3.13\n"
     ]
    }
   ],
   "source": [
    "for x in list_1[:]:\n",
    "    print(x)"
   ]
  },
  {
   "cell_type": "code",
   "execution_count": 34,
   "metadata": {},
   "outputs": [
    {
     "name": "stdout",
     "output_type": "stream",
     "text": [
      "0\n",
      "1\n",
      "2\n",
      "3\n",
      "4\n"
     ]
    }
   ],
   "source": [
    "for i in range(len(list_1)):\n",
    "    print(i)"
   ]
  },
  {
   "cell_type": "code",
   "execution_count": 36,
   "metadata": {},
   "outputs": [
    {
     "data": {
      "text/plain": [
       "{'N': 2, 'Mumbai': 'Mumbai', 'Delhi': 'Delhi', True: True, 3.13: 3.13}"
      ]
     },
     "execution_count": 36,
     "metadata": {},
     "output_type": "execute_result"
    }
   ],
   "source": [
    "dict(zip(list_1,list_2))"
   ]
  },
  {
   "cell_type": "code",
   "execution_count": 37,
   "metadata": {},
   "outputs": [
    {
     "data": {
      "text/plain": [
       "['N', 'Mumbai', 'Delhi', True, 3.13]"
      ]
     },
     "execution_count": 37,
     "metadata": {},
     "output_type": "execute_result"
    }
   ],
   "source": [
    "list_1"
   ]
  },
  {
   "cell_type": "code",
   "execution_count": 41,
   "metadata": {},
   "outputs": [
    {
     "name": "stdout",
     "output_type": "stream",
     "text": [
      "1\n",
      "2\n",
      "3\n",
      "4\n"
     ]
    }
   ],
   "source": [
    "for x in list_1:\n",
    "    for y in list_2:\n",
    "        if x==y:\n",
    "            print(list_1.index(y))"
   ]
  },
  {
   "cell_type": "code",
   "execution_count": 42,
   "metadata": {},
   "outputs": [
    {
     "name": "stdout",
     "output_type": "stream",
     "text": [
      "1\n",
      "2\n",
      "3\n",
      "4\n"
     ]
    }
   ],
   "source": [
    "for x , y in zip(list_1,list_2):\n",
    "    if x==y:\n",
    "        print(list_1.index(y))"
   ]
  },
  {
   "cell_type": "code",
   "execution_count": 43,
   "metadata": {},
   "outputs": [],
   "source": [
    "list_3=[1,4,234,3,43,3,2,2,5,6,5,4,23]"
   ]
  },
  {
   "cell_type": "code",
   "execution_count": 44,
   "metadata": {},
   "outputs": [
    {
     "name": "stdout",
     "output_type": "stream",
     "text": [
      "4\n",
      "234\n",
      "2\n",
      "2\n",
      "6\n",
      "4\n"
     ]
    }
   ],
   "source": [
    "for i in list_3:\n",
    "    if i%2==0:\n",
    "        eve"
   ]
  },
  {
   "cell_type": "code",
   "execution_count": 45,
   "metadata": {},
   "outputs": [],
   "source": [
    " even_1=[i for i in list_3 if i%2==0]"
   ]
  },
  {
   "cell_type": "code",
   "execution_count": 46,
   "metadata": {},
   "outputs": [
    {
     "data": {
      "text/plain": [
       "[4, 234, 2, 2, 6, 4]"
      ]
     },
     "execution_count": 46,
     "metadata": {},
     "output_type": "execute_result"
    }
   ],
   "source": [
    "even_1"
   ]
  },
  {
   "cell_type": "code",
   "execution_count": 48,
   "metadata": {},
   "outputs": [
    {
     "name": "stdout",
     "output_type": "stream",
     "text": [
      "('Country', 'India')\n",
      "('USA', [2, 3, 5, True])\n",
      "('Cap', 'Delhi')\n"
     ]
    }
   ],
   "source": [
    "for i in dict_1.items():\n",
    "    print(i)"
   ]
  },
  {
   "cell_type": "code",
   "execution_count": 50,
   "metadata": {},
   "outputs": [
    {
     "name": "stdout",
     "output_type": "stream",
     "text": [
      "Country\n",
      "USA\n",
      "Cap\n"
     ]
    }
   ],
   "source": [
    "for i in dict_1.items():\n",
    "    print(i[0])"
   ]
  },
  {
   "cell_type": "code",
   "execution_count": 51,
   "metadata": {},
   "outputs": [],
   "source": [
    "list_3=[\"a\",\"b\",\"c\",\"d\",\"e\",\"f\",\"g\",\"h\",\"i\"]"
   ]
  },
  {
   "cell_type": "code",
   "execution_count": 55,
   "metadata": {},
   "outputs": [
    {
     "name": "stdout",
     "output_type": "stream",
     "text": [
      "0\n",
      "1\n",
      "2\n",
      "3\n",
      "4\n",
      "5\n",
      "6\n",
      "7\n",
      "8\n"
     ]
    }
   ],
   "source": [
    "for i, x in enumerate(list_3):\n",
    "    print (i)"
   ]
  },
  {
   "cell_type": "code",
   "execution_count": 56,
   "metadata": {},
   "outputs": [
    {
     "name": "stdout",
     "output_type": "stream",
     "text": [
      "a\n",
      "d\n",
      "g\n"
     ]
    }
   ],
   "source": [
    "for i, x in enumerate(list_3):\n",
    "    if i%3==0:\n",
    "        print(x)"
   ]
  },
  {
   "cell_type": "code",
   "execution_count": 57,
   "metadata": {},
   "outputs": [],
   "source": [
    "from math import sqrt as rt"
   ]
  },
  {
   "cell_type": "code",
   "execution_count": 58,
   "metadata": {},
   "outputs": [
    {
     "data": {
      "text/plain": [
       "3.0"
      ]
     },
     "execution_count": 58,
     "metadata": {},
     "output_type": "execute_result"
    }
   ],
   "source": [
    "rt(9)"
   ]
  },
  {
   "cell_type": "code",
   "execution_count": 59,
   "metadata": {},
   "outputs": [],
   "source": [
    "list_4=[1,2,3], [4,5,6],[23,21,3]"
   ]
  },
  {
   "cell_type": "code",
   "execution_count": 60,
   "metadata": {},
   "outputs": [
    {
     "data": {
      "text/plain": [
       "([1, 2, 3], [4, 5, 6], [23, 21, 3])"
      ]
     },
     "execution_count": 60,
     "metadata": {},
     "output_type": "execute_result"
    }
   ],
   "source": [
    "list_4"
   ]
  },
  {
   "cell_type": "code",
   "execution_count": 61,
   "metadata": {},
   "outputs": [],
   "source": [
    "import numpy as np"
   ]
  },
  {
   "cell_type": "code",
   "execution_count": 63,
   "metadata": {},
   "outputs": [],
   "source": [
    "l= np.array(list_4)"
   ]
  },
  {
   "cell_type": "code",
   "execution_count": 64,
   "metadata": {},
   "outputs": [
    {
     "data": {
      "text/plain": [
       "(3, 3)"
      ]
     },
     "execution_count": 64,
     "metadata": {},
     "output_type": "execute_result"
    }
   ],
   "source": [
    "l.shape"
   ]
  },
  {
   "cell_type": "code",
   "execution_count": 65,
   "metadata": {},
   "outputs": [],
   "source": [
    "import os"
   ]
  },
  {
   "cell_type": "code",
   "execution_count": 66,
   "metadata": {},
   "outputs": [
    {
     "data": {
      "text/plain": [
       "'C:\\\\Users\\\\Suyash'"
      ]
     },
     "execution_count": 66,
     "metadata": {},
     "output_type": "execute_result"
    }
   ],
   "source": [
    "os.getcwd()"
   ]
  },
  {
   "cell_type": "code",
   "execution_count": 70,
   "metadata": {},
   "outputs": [],
   "source": [
    "os.chdir(\"C:\\\\Users\\\\Suyash\\\\Downloads\")"
   ]
  },
  {
   "cell_type": "code",
   "execution_count": 71,
   "metadata": {},
   "outputs": [
    {
     "ename": "AttributeError",
     "evalue": "module 'os' has no attribute 'ls'",
     "output_type": "error",
     "traceback": [
      "\u001b[1;31m---------------------------------------------------------------------------\u001b[0m",
      "\u001b[1;31mAttributeError\u001b[0m                            Traceback (most recent call last)",
      "\u001b[1;32m<ipython-input-71-b5f44a6cd350>\u001b[0m in \u001b[0;36m<module>\u001b[1;34m\u001b[0m\n\u001b[1;32m----> 1\u001b[1;33m \u001b[0mos\u001b[0m\u001b[1;33m.\u001b[0m\u001b[0mls\u001b[0m\u001b[1;33m\u001b[0m\u001b[1;33m\u001b[0m\u001b[0m\n\u001b[0m",
      "\u001b[1;31mAttributeError\u001b[0m: module 'os' has no attribute 'ls'"
     ]
    }
   ],
   "source": [
    "os.ls"
   ]
  },
  {
   "cell_type": "code",
   "execution_count": 72,
   "metadata": {},
   "outputs": [
    {
     "name": "stdout",
     "output_type": "stream",
     "text": [
      " Volume in drive C is OS\n",
      " Volume Serial Number is EA31-0972\n",
      "\n",
      " Directory of C:\\Users\\Suyash\\Downloads\n",
      "\n",
      "01/25/2019  09:58 AM    <DIR>          .\n",
      "01/25/2019  09:58 AM    <DIR>          ..\n",
      "04/21/2018  03:49 AM            59,356 1.docx\n",
      "05/12/2018  03:29 PM           477,793 100% GTA 5 savegame By maketoss.rar\n",
      "03/18/2018  10:52 PM            15,472 1520946808021Resume_Mitali.docx\n",
      "09/30/2017  03:09 PM           181,749 17A1365401534993C3CA983270C8FC4E40416375.torrent\n",
      "04/25/2018  11:07 AM           464,479 1891143-Faded-Marimba-Remix.mp3\n",
      "11/03/2017  02:20 PM           162,651 20 documents.docx\n",
      "10/19/2018  05:20 PM            28,218 20181019-ETL-Test2.docx\n",
      "10/24/2018  02:28 PM           269,134 20181019-ETL-Test2-Nifty.csv\n",
      "04/20/2018  08:14 PM           440,373 A Final Year Project Report on carparking system (1).docx\n",
      "10/22/2017  02:29 PM           440,373 A Final Year Project Report on carparking system.docx\n",
      "05/13/2018  12:32 PM           537,431 ac6092-100save61.rar\n",
      "03/20/2018  10:40 PM         3,899,664 AGRT SANJAY DUTT 102725.pdf\n",
      "03/12/2018  12:15 PM           194,323 ANDROID APPLICATION FOR WOMEN,S SAFETY ICAST.docx\n",
      "03/12/2018  12:00 PM           700,096 ANDROID APPLICATION FOR WOMEN,S SAFETY ICAST.pdf\n",
      "10/05/2017  05:54 PM         1,322,186 Android_Lab.docx\n",
      "03/10/2018  03:56 PM        94,774,384 arduino-1.8.5-windows.exe\n",
      "03/10/2018  04:09 PM            44,208 aREST-master.zip\n",
      "10/05/2017  06:09 PM            20,909 Audio.docx\n",
      "10/07/2017  02:59 PM         2,896,576 BitTorrent.exe\n",
      "04/04/2018  02:04 PM             6,844 blood.odt\n",
      "03/10/2018  03:59 PM             3,193 boomBarrier (1).ino\n",
      "08/08/2018  10:17 PM            28,805 BTC-INR.csv\n",
      "10/06/2017  08:53 AM           299,359 Calculator_V3.zip\n",
      "04/04/2018  01:58 PM            32,256 car (1).doc\n",
      "02/17/2018  12:02 PM         2,226,633 Car Parking system.pptx\n",
      "04/04/2018  01:56 PM            32,256 car.doc\n",
      "11/06/2017  11:15 AM            24,576 car_parking_sponsership.doc\n",
      "10/12/2017  12:54 PM           663,206 card_payment_forms-web_Free12-05-2017_1691335660.zip\n",
      "05/19/2018  03:29 PM           592,738 carparkingieee.docx\n",
      "05/25/2018  03:25 PM         8,160,000 Cash Cash - All My Love (feat. Conor Maynard) [Sagan Remix] (320  kbps) (YouTube 2 MP3 Converter).mp3\n",
      "05/25/2018  04:11 PM         5,161,143 Cash Cash - All My Love (feat. Conor Maynard) [Sagan Remix] (320  kbps) (YouTube 2 MP3 Converter)-[AudioTrimmer.com].mp3\n",
      "08/10/2018  05:02 PM             1,284 Catalog.csv\n",
      "08/10/2018  04:53 PM             2,496 Catalog.dat\n",
      "08/10/2018  05:05 PM             4,671 Catalog.json\n",
      "08/10/2018  05:02 PM             5,073 Catalog.xml\n",
      "10/05/2017  11:22 PM         2,448,182 CC LAB MANUAL 2017.pdf\n",
      "10/05/2017  11:11 PM           111,165 CC Question Bank & ASSIGNMENT Solution.docx\n",
      "10/13/2017  02:22 AM         2,499,511 CC.docx\n",
      "10/13/2017  02:35 AM           634,556 cc10.docx\n",
      "10/13/2017  02:37 AM            42,766 cc12.docx\n",
      "02/09/2018  11:22 AM            20,859 Chapter 8.docx\n",
      "10/02/2017  06:42 PM             4,274 checkout-form.zip\n",
      "09/29/2017  10:51 PM         1,130,328 ChromeSetup.exe\n",
      "08/02/2018  08:59 PM            19,278 country.dat\n",
      "01/30/2018  02:13 PM            23,379 CV_suyash (1).docx\n",
      "06/27/2018  09:25 PM            24,049 CV_suyash_rev.docx\n",
      "10/29/2017  11:20 PM         3,161,533 dd.pdf\n",
      "07/23/2018  11:06 PM               449 divide.java\n",
      "10/02/2017  08:24 PM       106,859,936 DJ2540_188.exe\n",
      "08/08/2018  05:40 PM            23,408 DOLLAR.NS.csv\n",
      "03/13/2018  03:40 PM        47,919,651 eclipse-inst-linux32.tar.gz\n",
      "10/11/2017  11:17 AM            24,179 ecom new-20171011T054706Z-001.zip\n",
      "10/12/2017  12:01 PM            36,690 ecom8.pdf\n",
      "10/02/2017  06:13 PM         1,632,838 e-commerce-20171002T124319Z-001.zip\n",
      "10/12/2017  08:41 AM         2,034,633 ecommerce-master.zip\n",
      "04/25/2018  02:26 AM         1,711,296 epm (1).exe\n",
      "04/25/2018  02:28 AM         1,711,296 epm (2).exe\n",
      "04/25/2018  02:28 AM         1,711,296 epm (3).exe\n",
      "04/25/2018  02:26 AM         1,711,296 epm.exe\n",
      "04/04/2018  02:08 PM           311,457 ERP-01.docx\n",
      "08/08/2018  05:43 PM            32,187 ETH-INR.csv\n",
      "10/03/2017  11:47 PM            13,757 EXP 7 IS.odt\n",
      "04/24/2018  01:11 PM           313,513 Experiment no 2.docx\n",
      "04/24/2018  01:18 PM           396,024 EXPERIMENT NO 4.docx\n",
      "04/24/2018  01:26 PM           311,457 Experimentno01ERP.docx\n",
      "04/24/2018  01:23 PM           119,462 Experimentno-5.docx\n",
      "04/24/2018  01:23 PM         1,148,246 ExperimentNo-6.docx\n",
      "04/24/2018  01:22 PM           114,179 ExperimentNo-7.docx\n",
      "04/24/2018  01:22 PM           948,725 Experimentno8.docx\n",
      "04/24/2018  01:22 PM            63,578 ExperimentNo-9.docx\n",
      "10/11/2017  08:40 AM            17,160 expt2.odt\n",
      "10/07/2017  03:02 PM             1,204 FIFA18-STEAMPUNKS (1).xht\n",
      "10/07/2017  03:02 PM             1,198 FIFA18-STEAMPUNKS.xht\n",
      "08/14/2018  08:44 PM            14,173 FIM17.docx\n",
      "08/14/2018  08:45 PM            30,519 FIM17.pdf\n",
      "01/30/2018  02:14 PM            33,171 final resume.docx\n",
      "10/23/2017  02:11 PM           173,568 final synopsis.doc\n",
      "10/11/2017  11:38 AM        11,489,970 finalbakery (1).rar\n",
      "10/11/2017  11:39 AM        11,489,970 finalbakery (2).rar\n",
      "10/10/2017  06:49 PM        11,489,970 finalbakery.rar\n",
      "11/08/2017  09:07 AM           539,245 finalllllll.docx\n",
      "11/07/2017  10:11 PM             2,455 flowchart\n",
      "02/16/2018  04:33 PM             2,807 flowchart (1)\n",
      "02/16/2018  04:37 PM           105,457 flowchart (1).jpg\n",
      "11/07/2017  10:11 PM            68,095 flowchart.jpg\n",
      "05/09/2018  03:21 PM           165,003 Game-of-Thrones-Season-7-Episode-5.torrent\n",
      "01/20/2018  07:10 PM            55,141 hadoop\n",
      "03/12/2018  12:27 PM           434,331 ICAST MULTIFACTOR  PAPER (1).docx\n",
      "03/12/2018  11:56 AM           434,331 ICAST MULTIFACTOR  PAPER.docx\n",
      "04/21/2018  03:43 AM           539,865 icast_20180420191439.pdf\n",
      "03/12/2018  12:25 PM           302,127 ICAST-18_paper_137.pdf\n",
      "03/09/2018  11:59 AM           361,597 ICAST-18_paper_142.pdf\n",
      "03/12/2018  11:17 AM           381,254 ICAST-18_paper_165 (2).pdf\n",
      "05/19/2018  04:01 PM           364,241 ICICET_2018_paper_42 (1).pdf\n",
      "05/19/2018  03:00 PM           364,241 ICICET_2018_paper_42.pdf\n",
      "02/16/2018  04:40 PM           314,331 IEEE CAR PARKING (1).docx\n",
      "02/16/2018  03:41 PM           399,018 IEEE CAR PARKING (2).docx\n",
      "02/24/2018  10:49 PM           307,682 IEEE CAR PARKING _finalllllllnew.docx\n",
      "02/17/2018  09:01 AM           398,553 IEEE CAR PARKING _latest.docx\n",
      "02/12/2018  10:28 PM           399,018 IEEE CAR PARKING.docx\n",
      "11/15/2017  01:26 PM           224,971 IEEE MULTIFACTOR (1).docx\n",
      "11/15/2017  02:11 PM           271,952 IEEE MULTIFACTOR.docx\n",
      "03/16/2018  01:42 PM           325,361 IEEE_CAR_PARKING _CS61 (1).docx\n",
      "03/12/2018  11:53 AM           325,361 IEEE_CAR_PARKING _CS61.docx\n",
      "01/31/2018  07:19 PM           191,626 ijisrt Multifactor.docx\n",
      "01/20/2018  10:38 AM           104,470 image1.jpeg\n",
      "03/16/2018  01:42 PM         3,231,107 image1.png\n",
      "01/20/2018  10:38 AM            27,242 image2.jpeg\n",
      "01/20/2018  10:38 AM            32,358 image3.jpeg\n",
      "01/20/2018  10:38 AM            39,280 image4 (1).jpeg\n",
      "01/20/2018  10:38 AM            39,280 image4.jpeg\n",
      "03/18/2018  10:59 PM           532,450 IMG_0019.jpg\n",
      "05/25/2018  04:06 PM         6,236,872 IMG_2185.mp4\n",
      "10/06/2017  11:04 PM         2,461,714 IMG_5738.mp4\n",
      "02/14/2018  09:33 AM        15,739,524 Information Storage and Management,2nd Edition.pdf\n",
      "03/20/2018  12:16 PM               137 input.txt\n",
      "08/07/2018  11:04 PM           218,490 INR.csv\n",
      "05/06/2018  03:34 PM         6,695,056 Inspiron_7460_1.5.4.exe\n",
      "03/12/2018  11:31 AM            96,763 IoT Based Petrol Level Detection.docx\n",
      "10/03/2017  11:51 PM            13,549 IS 7.odt\n",
      "10/11/2017  08:38 AM             7,791 IS EXP 1\n",
      "04/13/2018  05:50 PM       272,307,016 iTunes64Setup.exe\n",
      "10/02/2017  06:23 PM         1,194,109 jquery-validation-master.zip\n",
      "10/12/2017  09:08 AM         2,604,063 litecart-2.0.2.zip\n",
      "03/13/2018  06:26 PM             1,962 Map.java\n",
      "08/05/2018  06:42 PM            62,689 Market_SWOT.pdf\n",
      "03/13/2018  09:16 PM             7,497 mat.jar\n",
      "03/14/2018  11:02 PM            53,765 MatrixHadoop.pptx\n",
      "03/13/2018  06:30 PM             1,504 MatrixMultiply.java\n",
      "11/03/2017  11:45 AM           408,317 MFA-IJCSAI (1).pdf\n",
      "11/03/2017  12:17 PM           408,317 MFA-IJCSAI (2).pdf\n",
      "10/06/2017  02:22 PM           408,317 MFA-IJCSAI.pdf\n",
      "11/03/2017  01:23 PM         1,747,100 Mid-Term Report.zip\n",
      "04/21/2018  10:51 AM           880,793 MINI PROJECT movie recommendation.docx\n",
      "04/16/2018  12:51 PM           621,853 MINI PROJECT(AUSTRIALEN ATHLETES) (1).docx\n",
      "04/13/2018  10:52 AM           594,300 MINI PROJECT(AUSTRIALEN ATHLETES) (2).docx\n",
      "04/13/2018  10:52 AM           594,300 MINI PROJECT(AUSTRIALEN ATHLETES) (3).docx\n",
      "04/13/2018  09:36 AM           620,438 MINI PROJECT(AUSTRIALEN ATHLETES).docx\n",
      "07/09/2018  12:40 AM         6,414,081 MKVPlayerSetupD.exe\n",
      "03/13/2018  09:16 PM               164 mulinput.txt\n",
      "11/03/2017  11:15 AM           670,208 multi report (1).doc\n",
      "11/03/2017  12:26 PM           671,232 multi report.doc\n",
      "04/04/2018  01:58 PM            32,256 Multi.doc\n",
      "04/22/2018  10:51 AM         2,920,199 MULTILEVEL AUTHENTICATION  FOR SECURITY.pptx\n",
      "04/25/2018  11:21 AM           430,346 narcos marimba remix.m4r\n",
      "04/25/2018  11:32 AM           848,254 narcos marimba remix.mp3\n",
      "03/09/2018  01:14 PM           558,183 New Doc 2018-03-09 (1).jpg\n",
      "03/09/2018  01:12 PM           558,183 New Doc 2018-03-09.jpg\n",
      "03/12/2018  12:35 PM           512,261 New Doc 2018-03-12.jpg\n",
      "10/11/2017  01:08 PM         6,549,868 New Microsoft Word Document (2).docx\n",
      "10/11/2017  01:09 PM         1,288,191 New Microsoft Word Document (2).pdf\n",
      "10/06/2017  11:08 PM           451,440 New-meme-material-nagar-palika-ko-bulao-pehle.mp3\n",
      "10/12/2017  01:40 AM         9,489,857 Online_Shopping.zip\n",
      "10/05/2017  10:45 PM           104,498 parent affidavit.pdf\n",
      "10/02/2017  06:43 PM            17,595 payment-form.zip\n",
      "04/22/2018  11:37 AM         1,819,832 pptcar.pptx\n",
      "04/21/2018  11:29 AM           125,679 prachi bhanushali.pdf\n",
      "07/09/2018  12:29 PM        25,506,832 python-3.7.0.exe\n",
      "10/11/2017  08:36 PM            90,730 Question Paper _ KJ Somaiya (1).pdf\n",
      "10/11/2017  08:02 PM            90,730 Question Paper _ KJ Somaiya.pdf\n",
      "07/25/2018  06:37 PM        82,877,232 R-3.5.1-win.exe\n",
      "06/23/2018  10:12 PM         5,562,976 rcsetup153.exe\n",
      "03/13/2018  06:28 PM             1,791 Reduce.java\n",
      "10/02/2017  06:31 PM           169,541 registration_login_form-web_Free29-07-2017_540612881.zip\n",
      "03/20/2018  10:39 PM            30,554 Repayment Schedule - NMUM1073497 - Sanjay Dutt.pdf\n",
      "07/25/2018  06:47 PM        89,995,632 RStudio-1.1.456.exe\n",
      "04/13/2018  11:43 AM         5,669,057 rule_induction_software.zip\n",
      "03/16/2018  02:40 PM           370,649 Sample Poster_Format (1).ppt.pdf\n",
      "03/16/2018  05:18 PM         1,673,653 Sample Poster_Format (1).ppt.pptx\n",
      "03/20/2018  10:39 PM            46,439 SANCTION LETTER - SANJAY DUTT.pdf\n",
      "03/18/2018  10:28 PM         1,074,780 Scan0020.jpg\n",
      "03/18/2018  10:28 PM         1,176,673 Scan0022.jpg\n",
      "03/18/2018  10:30 PM           872,995 Scan0024.jpg\n",
      "04/21/2018  10:39 AM            85,451 Screenshot (11).png\n",
      "04/21/2018  10:39 AM           100,640 Screenshot (12).png\n",
      "04/21/2018  10:39 AM            99,478 Screenshot (13).png\n",
      "04/21/2018  10:39 AM            97,165 Screenshot (14).png\n",
      "04/21/2018  10:39 AM            95,962 Screenshot (15).png\n",
      "04/21/2018  10:39 AM            95,000 Screenshot (16).png\n",
      "04/21/2018  10:39 AM            88,771 Screenshot (17).png\n",
      "04/21/2018  10:40 AM            94,502 Screenshot (18).png\n",
      "04/21/2018  10:40 AM            94,145 Screenshot (20).png\n",
      "10/23/2017  02:07 PM            59,499 Screenshot_2017-10-23-12-50-07 (1).png\n",
      "10/23/2017  01:52 PM            59,499 Screenshot_2017-10-23-12-50-07.png\n",
      "10/23/2017  01:51 PM            46,880 Screenshot_2017-10-23-12-50-58.png\n",
      "10/23/2017  02:09 PM            51,013 Screenshot_2017-10-23-12-51-11 (1).png\n",
      "10/23/2017  01:51 PM            51,013 Screenshot_2017-10-23-12-51-11.png\n",
      "02/17/2018  10:38 AM            72,360 Screenshot_20180217-103048.png\n",
      "03/16/2018  02:50 PM            32,115 Screenshot_20180309-111518[1].png\n",
      "08/05/2018  01:17 PM            23,040 Shouldice Case Questions.doc\n",
      "10/28/2017  01:40 PM           633,121 Single side ruled.pdf\n",
      "05/11/2018  04:33 PM       706,744,169 Solución Definitiva 0xc0000142 (Abraham18).rar\n",
      "10/13/2017  02:13 AM         3,512,772 sss-20171012T204326Z-001.zip\n",
      "05/11/2018  03:02 PM         1,273,847 steam_api64 (1).zip\n",
      "05/11/2018  03:29 PM           100,070 steam_api64 (2).zip\n",
      "05/11/2018  02:52 PM            98,897 steam_api64.zip\n",
      "09/29/2017  10:52 PM         1,446,792 SteamSetup.exe\n",
      "08/08/2018  10:17 PM            97,752 stock1.xlsx\n",
      "10/12/2017  01:39 PM         3,393,080 suyash report.docx\n",
      "04/21/2018  11:35 AM           125,659 suyash sangale.pdf\n",
      "04/08/2018  09:18 AM            12,763 Syllabus for Term Test II.docx\n",
      "11/03/2017  01:42 PM            46,643 Synopsis on Car parking system.docx\n",
      "11/03/2017  01:53 PM           293,712 Synopsis_18 (1).docx\n",
      "11/03/2017  11:46 AM           268,160 Synopsis_18.docx\n",
      "11/03/2017  11:16 AM           396,994 synopsisfinalformated.docx\n",
      "10/22/2017  02:50 PM           422,912 SynopsisFormat.doc\n",
      "11/03/2017  11:13 AM           436,224 SynopsisFormatED.doc\n",
      "04/21/2018  03:58 AM            23,104 table of content.docx\n",
      "11/03/2017  02:21 PM           459,010 TARGETED ADVERTISING USING   BEHAVIOURAL DATA AND SOCIAL.docx\n",
      "10/21/2017  03:01 PM        15,756,368 TeamViewer_Setup.exe\n",
      "10/02/2017  10:40 AM         6,645,375 template93.zip\n",
      "05/11/2018  03:39 PM         1,976,762 thuoc.rar\n",
      "08/05/2018  03:34 PM            20,861 TOWS_ANALYSIS.docx\n",
      "03/30/2018  10:06 PM        95,862,475 Unconfirmed 475690.crdownload\n",
      "02/14/2018  09:43 AM        15,199,734 untitled.pdf\n",
      "11/03/2017  11:20 AM           548,007 updated  with refernces  finalsynopsis (1).docx\n",
      "11/03/2017  01:00 AM           267,631 updated  with refernces  finalsynopsis.docx\n",
      "09/30/2017  01:33 PM         1,750,232 uTorrent.exe\n",
      "04/24/2018  11:21 PM         1,113,453 Video.MOV\n",
      "01/25/2019  09:58 AM           413,479 weather_small_2012.csv\n",
      "03/20/2018  11:02 PM            23,235 WebApplication1.zip\n",
      "05/20/2018  06:01 PM       118,554,593 WhatsApp Chat - Kamgar Nagar Committee.zip\n",
      "10/01/2017  10:57 AM         2,211,656 winrar-x64-550.exe\n",
      "09/02/2017  12:14 PM       118,428,192 xampp-win32-5.6.31-0-VC11-installer.exe\n",
      "10/10/2017  06:58 PM       128,537,072 xampp-win32-7.1.9-0-VC14-installer.exe\n",
      "08/08/2018  05:43 PM            26,020 XRP-INR.csv\n",
      "             226 File(s)  2,140,494,680 bytes\n",
      "               2 Dir(s)  11,916,103,680 bytes free\n"
     ]
    }
   ],
   "source": [
    "ls"
   ]
  },
  {
   "cell_type": "code",
   "execution_count": 73,
   "metadata": {},
   "outputs": [],
   "source": [
    "import pandas as pd"
   ]
  },
  {
   "cell_type": "code",
   "execution_count": 75,
   "metadata": {},
   "outputs": [],
   "source": [
    "df= pd.read_csv(\"weather_small_2012.csv\")"
   ]
  },
  {
   "cell_type": "code",
   "execution_count": 76,
   "metadata": {},
   "outputs": [
    {
     "data": {
      "text/html": [
       "<div>\n",
       "<style scoped>\n",
       "    .dataframe tbody tr th:only-of-type {\n",
       "        vertical-align: middle;\n",
       "    }\n",
       "\n",
       "    .dataframe tbody tr th {\n",
       "        vertical-align: top;\n",
       "    }\n",
       "\n",
       "    .dataframe thead th {\n",
       "        text-align: right;\n",
       "    }\n",
       "</style>\n",
       "<table border=\"1\" class=\"dataframe\">\n",
       "  <thead>\n",
       "    <tr style=\"text-align: right;\">\n",
       "      <th></th>\n",
       "      <th>Date/Time</th>\n",
       "      <th>Temp (C)</th>\n",
       "      <th>Dew Point Temp (C)</th>\n",
       "      <th>Rel Hum (%)</th>\n",
       "      <th>Wind Spd (km/h)</th>\n",
       "      <th>Visibility (km)</th>\n",
       "      <th>Stn Press (kPa)</th>\n",
       "    </tr>\n",
       "  </thead>\n",
       "  <tbody>\n",
       "    <tr>\n",
       "      <th>0</th>\n",
       "      <td>2012-01-01 00:00:00</td>\n",
       "      <td>-1.8</td>\n",
       "      <td>-3.9</td>\n",
       "      <td>86</td>\n",
       "      <td>4</td>\n",
       "      <td>8.0</td>\n",
       "      <td>101.24</td>\n",
       "    </tr>\n",
       "    <tr>\n",
       "      <th>1</th>\n",
       "      <td>2012-01-01 01:00:00</td>\n",
       "      <td>-1.8</td>\n",
       "      <td>-3.7</td>\n",
       "      <td>87</td>\n",
       "      <td>4</td>\n",
       "      <td>8.0</td>\n",
       "      <td>101.24</td>\n",
       "    </tr>\n",
       "    <tr>\n",
       "      <th>2</th>\n",
       "      <td>2012-01-01 02:00:00</td>\n",
       "      <td>-1.8</td>\n",
       "      <td>-3.4</td>\n",
       "      <td>89</td>\n",
       "      <td>7</td>\n",
       "      <td>4.0</td>\n",
       "      <td>101.26</td>\n",
       "    </tr>\n",
       "    <tr>\n",
       "      <th>3</th>\n",
       "      <td>2012-01-01 03:00:00</td>\n",
       "      <td>-1.5</td>\n",
       "      <td>-3.2</td>\n",
       "      <td>88</td>\n",
       "      <td>6</td>\n",
       "      <td>4.0</td>\n",
       "      <td>101.27</td>\n",
       "    </tr>\n",
       "    <tr>\n",
       "      <th>4</th>\n",
       "      <td>2012-01-01 04:00:00</td>\n",
       "      <td>-1.5</td>\n",
       "      <td>-3.3</td>\n",
       "      <td>88</td>\n",
       "      <td>7</td>\n",
       "      <td>4.8</td>\n",
       "      <td>101.23</td>\n",
       "    </tr>\n",
       "  </tbody>\n",
       "</table>\n",
       "</div>"
      ],
      "text/plain": [
       "             Date/Time  Temp (C)  Dew Point Temp (C)  Rel Hum (%)  \\\n",
       "0  2012-01-01 00:00:00      -1.8                -3.9           86   \n",
       "1  2012-01-01 01:00:00      -1.8                -3.7           87   \n",
       "2  2012-01-01 02:00:00      -1.8                -3.4           89   \n",
       "3  2012-01-01 03:00:00      -1.5                -3.2           88   \n",
       "4  2012-01-01 04:00:00      -1.5                -3.3           88   \n",
       "\n",
       "   Wind Spd (km/h)  Visibility (km)  Stn Press (kPa)  \n",
       "0                4              8.0           101.24  \n",
       "1                4              8.0           101.24  \n",
       "2                7              4.0           101.26  \n",
       "3                6              4.0           101.27  \n",
       "4                7              4.8           101.23  "
      ]
     },
     "execution_count": 76,
     "metadata": {},
     "output_type": "execute_result"
    }
   ],
   "source": [
    "df.head()"
   ]
  },
  {
   "cell_type": "code",
   "execution_count": 87,
   "metadata": {},
   "outputs": [],
   "source": [
    "nmims = df[df[\"Temp (C)\"]<-3.3][\"Dew Point Temp (C)\"]"
   ]
  },
  {
   "cell_type": "code",
   "execution_count": 80,
   "metadata": {},
   "outputs": [
    {
     "data": {
      "text/plain": [
       "pandas.core.series.Series"
      ]
     },
     "execution_count": 80,
     "metadata": {},
     "output_type": "execute_result"
    }
   ],
   "source": [
    "type(nmims)"
   ]
  },
  {
   "cell_type": "code",
   "execution_count": 88,
   "metadata": {},
   "outputs": [
    {
     "data": {
      "text/plain": [
       "42     -11.4\n",
       "43     -12.1\n",
       "44     -13.4\n",
       "45     -12.8\n",
       "46     -14.7\n",
       "47     -14.1\n",
       "48     -16.0\n",
       "49     -17.2\n",
       "50     -15.8\n",
       "51     -18.7\n",
       "52     -20.1\n",
       "53     -19.1\n",
       "54     -19.3\n",
       "55     -19.5\n",
       "56     -21.3\n",
       "57     -21.9\n",
       "58     -22.2\n",
       "59     -22.2\n",
       "60     -22.6\n",
       "61     -22.4\n",
       "62     -22.9\n",
       "63     -22.2\n",
       "64     -22.9\n",
       "65     -23.2\n",
       "66     -23.8\n",
       "67     -24.8\n",
       "68     -25.4\n",
       "69     -24.6\n",
       "70     -24.6\n",
       "71     -24.2\n",
       "        ... \n",
       "8745   -15.0\n",
       "8746   -16.0\n",
       "8747   -15.4\n",
       "8748   -15.7\n",
       "8749   -16.2\n",
       "8750   -16.1\n",
       "8751   -15.6\n",
       "8752   -15.5\n",
       "8753   -15.8\n",
       "8754   -16.0\n",
       "8755   -16.5\n",
       "8756   -16.5\n",
       "8757   -16.5\n",
       "8758   -16.3\n",
       "8759   -15.1\n",
       "8760   -14.4\n",
       "8761   -14.0\n",
       "8762   -13.4\n",
       "8763   -14.4\n",
       "8764   -12.8\n",
       "8765   -12.4\n",
       "8766   -11.7\n",
       "8767   -11.3\n",
       "8768   -10.3\n",
       "8769    -9.6\n",
       "8770    -8.9\n",
       "8771    -7.9\n",
       "8772    -7.5\n",
       "8773    -6.6\n",
       "8774    -5.7\n",
       "Name: Dew Point Temp (C), Length: 1566, dtype: float64"
      ]
     },
     "execution_count": 88,
     "metadata": {},
     "output_type": "execute_result"
    }
   ],
   "source": [
    "nmims"
   ]
  },
  {
   "cell_type": "code",
   "execution_count": null,
   "metadata": {},
   "outputs": [],
   "source": []
  }
 ],
 "metadata": {
  "kernelspec": {
   "display_name": "Python 3",
   "language": "python",
   "name": "python3"
  },
  "language_info": {
   "codemirror_mode": {
    "name": "ipython",
    "version": 3
   },
   "file_extension": ".py",
   "mimetype": "text/x-python",
   "name": "python",
   "nbconvert_exporter": "python",
   "pygments_lexer": "ipython3",
   "version": "3.7.1"
  }
 },
 "nbformat": 4,
 "nbformat_minor": 2
}
